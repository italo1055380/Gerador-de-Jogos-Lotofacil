{
  "nbformat": 4,
  "nbformat_minor": 0,
  "metadata": {
    "colab": {
      "provenance": [],
      "authorship_tag": "ABX9TyPrzxX9NEbe24tHpw/3wCyP",
      "include_colab_link": true
    },
    "kernelspec": {
      "name": "python3",
      "display_name": "Python 3"
    },
    "language_info": {
      "name": "python"
    }
  },
  "cells": [
    {
      "cell_type": "markdown",
      "metadata": {
        "id": "view-in-github",
        "colab_type": "text"
      },
      "source": [
        "<a href=\"https://colab.research.google.com/github/italo1055380/Gerador-de-Jogos-Lotofacil/blob/main/GeradorJogosLotofacil.ipynb\" target=\"_parent\"><img src=\"https://colab.research.google.com/assets/colab-badge.svg\" alt=\"Open In Colab\"/></a>"
      ]
    },
    {
      "cell_type": "code",
      "execution_count": null,
      "metadata": {
        "id": "wMXwMxUx8voJ"
      },
      "outputs": [],
      "source": [
        "import random\n",
        "\n",
        "# Define a função para verificar se um número é primo\n",
        "def eh_primo(numero):\n",
        "    if numero < 2:\n",
        "        return False\n",
        "    for i in range(2, int(numero ** 0.5) + 1):\n",
        "        if numero % i == 0:\n",
        "            return False\n",
        "    return True\n",
        "\n",
        "# Define as constantes do jogo\n",
        "NUM_TOTAL = 25\n",
        "NUM_ESCOLHIDOS = 15\n",
        "\n",
        "# Define os números quentes e frios\n",
        "numeros_quentes = [5, 7, 10, 13, 18, 19, 20, 21, 22, 23, 25]\n",
        "numeros_frios = [1, 2, 3, 4, 6, 8, 9, 11, 12, 14, 15, 16, 17, 24]\n",
        "\n",
        "# Pergunta ao usuário a quantidade de jogos que deseja fazer\n",
        "num_jogos = int(input(\"Quantos jogos você deseja fazer? \"))\n",
        "\n",
        "# Define a lista de jogos gerados\n",
        "jogos = []\n",
        "\n",
        "# Gera os jogos\n",
        "while len(jogos) < num_jogos:\n",
        "    numeros = []\n",
        "    for j in range(NUM_ESCOLHIDOS):\n",
        "        while True:\n",
        "            if len(numeros) < 11:\n",
        "                numero = random.choice(numeros_quentes)\n",
        "            else:\n",
        "                numero = random.choice(numeros_frios)\n",
        "            if not numero in numeros:\n",
        "                numeros.append(numero)\n",
        "                break\n",
        "    numeros.sort()\n",
        "    if not numeros in jogos:\n",
        "        jogos.append(numeros)\n",
        "        print(f\"Jogo {len(jogos)}: {numeros}\")\n",
        "\n"
      ]
    }
  ]
}